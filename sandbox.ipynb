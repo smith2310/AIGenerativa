{
 "cells": [
  {
   "cell_type": "code",
   "execution_count": 1,
   "metadata": {},
   "outputs": [
    {
     "name": "stdout",
     "output_type": "stream",
     "text": [
      "Requirement already satisfied: ortools in /opt/anaconda3/envs/pytorch_m1/lib/python3.9/site-packages (9.11.4210)\n",
      "Requirement already satisfied: absl-py>=2.0.0 in /opt/anaconda3/envs/pytorch_m1/lib/python3.9/site-packages (from ortools) (2.1.0)\n",
      "Requirement already satisfied: numpy>=1.13.3 in /opt/anaconda3/envs/pytorch_m1/lib/python3.9/site-packages (from ortools) (1.26.4)\n",
      "Requirement already satisfied: pandas>=2.0.0 in /opt/anaconda3/envs/pytorch_m1/lib/python3.9/site-packages (from ortools) (2.2.2)\n",
      "Requirement already satisfied: protobuf<5.27,>=5.26.1 in /opt/anaconda3/envs/pytorch_m1/lib/python3.9/site-packages (from ortools) (5.26.1)\n",
      "Requirement already satisfied: immutabledict>=3.0.0 in /opt/anaconda3/envs/pytorch_m1/lib/python3.9/site-packages (from ortools) (4.2.0)\n",
      "Requirement already satisfied: python-dateutil>=2.8.2 in /opt/anaconda3/envs/pytorch_m1/lib/python3.9/site-packages (from pandas>=2.0.0->ortools) (2.9.0)\n",
      "Requirement already satisfied: pytz>=2020.1 in /opt/anaconda3/envs/pytorch_m1/lib/python3.9/site-packages (from pandas>=2.0.0->ortools) (2024.1)\n",
      "Requirement already satisfied: tzdata>=2022.7 in /opt/anaconda3/envs/pytorch_m1/lib/python3.9/site-packages (from pandas>=2.0.0->ortools) (2024.1)\n",
      "Requirement already satisfied: six>=1.5 in /opt/anaconda3/envs/pytorch_m1/lib/python3.9/site-packages (from python-dateutil>=2.8.2->pandas>=2.0.0->ortools) (1.16.0)\n"
     ]
    }
   ],
   "source": [
    "!pip install ortools"
   ]
  },
  {
   "cell_type": "code",
   "execution_count": 2,
   "metadata": {},
   "outputs": [
    {
     "name": "stdout",
     "output_type": "stream",
     "text": [
      "InvalidBinPackingGameResult()\n",
      "ec8632df9435abbbe96edf1a646e74cb\n",
      "1f807700e97330c7555d3e3fba3e24d6\n"
     ]
    }
   ],
   "source": [
    "from model import BinPackingGame, Box\n",
    "\n",
    "container = Box(3, 3)\n",
    "boxes = [Box(1, 1), Box(4, 3)]\n",
    "bin_packing_game = BinPackingGame(container, boxes)\n",
    "print(bin_packing_game.solve())\n",
    "print(bin_packing_game.generate_unique_key())\n",
    "boxes = [Box(1, 1), Box(3, 4)]\n",
    "bin_packing_game = BinPackingGame(container, boxes)\n",
    "print(bin_packing_game.generate_unique_key())"
   ]
  },
  {
   "cell_type": "code",
   "execution_count": 3,
   "metadata": {},
   "outputs": [
    {
     "name": "stdout",
     "output_type": "stream",
     "text": [
      "Bin packing game with 4 boxes generated successfully!\n",
      "Bin packing game with 4 boxes generated successfully!\n",
      "Bin packing game with 7 boxes generated successfully!\n",
      "Bin packing game with 4 boxes generated successfully!\n",
      "Bin packing game with 9 boxes generated successfully!\n",
      "Bin packing game with 5 boxes generated successfully!\n",
      "Bin packing game with 5 boxes generated successfully!\n",
      "Bin packing game with 6 boxes generated successfully!\n",
      "Bin packing game with 4 boxes generated successfully!\n",
      "Bin packing game with 4 boxes generated successfully!\n",
      "Bin packing game with 4 boxes generated successfully!\n",
      "----Bin Packing Game -> ca311dcb91771e8c9b7282244775aa94---\n",
      "Coverage ->0.79\n",
      "cantidad de cajas ->4\n",
      "Boxes ->[Box(width=8, height=3), Box(width=4, height=6), Box(width=7, height=1), Box(width=6, height=4)]\n",
      "----Bin Packing Game -> 1690b11002c9bc216c3a962a8c92ec13---\n",
      "Coverage ->0.7\n",
      "cantidad de cajas ->4\n",
      "Boxes ->[Box(width=5, height=1), Box(width=3, height=1), Box(width=5, height=4), Box(width=7, height=6)]\n",
      "----Bin Packing Game -> 0d3194aff81e80a2b7d82d66c554fb7e---\n",
      "Coverage ->0.79\n",
      "cantidad de cajas ->4\n",
      "Boxes ->[Box(width=7, height=1), Box(width=9, height=7), Box(width=1, height=5), Box(width=1, height=4)]\n",
      "----Bin Packing Game -> b4ae33ec76c2ef691f66963ecf871be9---\n",
      "Coverage ->0.68\n",
      "cantidad de cajas ->4\n",
      "Boxes ->[Box(width=4, height=8), Box(width=6, height=3), Box(width=3, height=5), Box(width=3, height=1)]\n",
      "----Bin Packing Game -> 19d1f311bcb0777e27607ace2179f27c---\n",
      "Coverage ->0.64\n",
      "cantidad de cajas ->4\n",
      "Boxes ->[Box(width=5, height=3), Box(width=5, height=1), Box(width=8, height=2), Box(width=7, height=4)]\n",
      "----Bin Packing Game -> ef012d180babfc3c70b463a8ca81e20b---\n",
      "Coverage ->0.81\n",
      "cantidad de cajas ->4\n",
      "Boxes ->[Box(width=9, height=2), Box(width=7, height=4), Box(width=1, height=7), Box(width=7, height=4)]\n",
      "----Bin Packing Game -> 9d31014056178d26a7c04bb60eb78997---\n",
      "Coverage ->0.83\n",
      "cantidad de cajas ->5\n",
      "Boxes ->[Box(width=8, height=4), Box(width=1, height=3), Box(width=10, height=2), Box(width=5, height=4), Box(width=4, height=2)]\n",
      "----Bin Packing Game -> 022dd03821f647ee4afe7760968f7863---\n",
      "Coverage ->0.61\n",
      "cantidad de cajas ->5\n",
      "Boxes ->[Box(width=6, height=4), Box(width=1, height=1), Box(width=1, height=8), Box(width=4, height=1), Box(width=6, height=4)]\n",
      "----Bin Packing Game -> 847b31c5950dab2de5663e5c5dcc808b---\n",
      "Coverage ->0.69\n",
      "cantidad de cajas ->6\n",
      "Boxes ->[Box(width=4, height=8), Box(width=3, height=1), Box(width=1, height=2), Box(width=5, height=2), Box(width=5, height=4), Box(width=2, height=1)]\n",
      "----Bin Packing Game -> e2e4622fad86b22107c52d9fd0036308---\n",
      "Coverage ->0.52\n",
      "cantidad de cajas ->7\n",
      "Boxes ->[Box(width=5, height=1), Box(width=3, height=1), Box(width=3, height=7), Box(width=3, height=2), Box(width=3, height=4), Box(width=1, height=3), Box(width=1, height=2)]\n",
      "----Bin Packing Game -> e54f6de4c8dad10d6a43189cb832e12d---\n",
      "Coverage ->0.59\n",
      "cantidad de cajas ->9\n",
      "Boxes ->[Box(width=8, height=1), Box(width=2, height=5), Box(width=4, height=1), Box(width=1, height=6), Box(width=2, height=1), Box(width=2, height=1), Box(width=8, height=2), Box(width=1, height=2), Box(width=3, height=3)]\n"
     ]
    }
   ],
   "source": [
    "from model import BinPackingGame, Box\n",
    "from random_generator import RandomGenerator\n",
    "\n",
    "container = Box(10, 10)\n",
    "random_generator = RandomGenerator(\n",
    "    container,\n",
    "    min_boxes_per_container = 4\n",
    ")\n",
    "valid_bin_packing_games = random_generator.generate(games_to_generate=10)\n",
    "valid_bin_packing_games = sorted(valid_bin_packing_games, key=lambda game: len(game.boxes))\n",
    "for bin_packing_game in valid_bin_packing_games:\n",
    "    print(f'----Bin Packing Game -> {bin_packing_game.generate_unique_key()}---')\n",
    "    print(f'Coverage ->{bin_packing_game.coverage()}')\n",
    "    print(f'cantidad de cajas ->{len(bin_packing_game.boxes)}')\n",
    "    print(f'Boxes ->{bin_packing_game.boxes}')\n"
   ]
  }
 ],
 "metadata": {
  "kernelspec": {
   "display_name": "Python 3",
   "language": "python",
   "name": "python3"
  },
  "language_info": {
   "codemirror_mode": {
    "name": "ipython",
    "version": 3
   },
   "file_extension": ".py",
   "mimetype": "text/x-python",
   "name": "python",
   "nbconvert_exporter": "python",
   "pygments_lexer": "ipython3",
   "version": "3.9.18"
  }
 },
 "nbformat": 4,
 "nbformat_minor": 2
}
